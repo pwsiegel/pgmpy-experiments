{
 "cells": [
  {
   "cell_type": "code",
   "execution_count": 1,
   "id": "fb596c4a-ff8b-40ce-a5ff-a266c821c062",
   "metadata": {},
   "outputs": [],
   "source": [
    "import pgmpy"
   ]
  },
  {
   "cell_type": "code",
   "execution_count": 2,
   "id": "ee1cd9f4-272b-4ef0-8e8c-8e906dc0ac32",
   "metadata": {},
   "outputs": [
    {
     "data": {
      "text/plain": [
       "device(type='cpu')"
      ]
     },
     "execution_count": 2,
     "metadata": {},
     "output_type": "execute_result"
    }
   ],
   "source": [
    "pgmpy.device"
   ]
  },
  {
   "cell_type": "code",
   "execution_count": null,
   "id": "27339bb1-4e5f-42b8-8756-8ed6e5d2edb7",
   "metadata": {},
   "outputs": [],
   "source": []
  }
 ],
 "metadata": {
  "kernelspec": {
   "display_name": "Python 3 (ipykernel)",
   "language": "python",
   "name": "python3"
  },
  "language_info": {
   "codemirror_mode": {
    "name": "ipython",
    "version": 3
   },
   "file_extension": ".py",
   "mimetype": "text/x-python",
   "name": "python",
   "nbconvert_exporter": "python",
   "pygments_lexer": "ipython3",
   "version": "3.10.9"
  }
 },
 "nbformat": 4,
 "nbformat_minor": 5
}
